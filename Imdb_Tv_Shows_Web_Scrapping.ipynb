{
 "cells": [
  {
   "cell_type": "markdown",
   "id": "655f83cd",
   "metadata": {},
   "source": [
    "### This code will scrape data from IMDb TV Shows page and store the information in lists"
   ]
  },
  {
   "cell_type": "markdown",
   "id": "78496466",
   "metadata": {},
   "source": [
    "### The data includes: Title, Year, Rating, Genre, Runtime, Votes, and Stars"
   ]
  },
  {
   "cell_type": "markdown",
   "id": "ef8b1642",
   "metadata": {},
   "source": [
    "### The code will loop through 20 pages, each containing 50 TV shows"
   ]
  },
  {
   "cell_type": "markdown",
   "id": "41928510",
   "metadata": {},
   "source": [
    "### BeautifulSoup library is used to parse HTML content"
   ]
  },
  {
   "cell_type": "code",
   "execution_count": null,
   "id": "2d78c7dd",
   "metadata": {},
   "outputs": [],
   "source": []
  },
  {
   "cell_type": "markdown",
   "id": "a6168494",
   "metadata": {},
   "source": [
    "## Import necessary libraries"
   ]
  },
  {
   "cell_type": "code",
   "execution_count": 2,
   "id": "4795e7ab",
   "metadata": {},
   "outputs": [],
   "source": [
    "import requests\n",
    "from bs4 import BeautifulSoup\n",
    "import pandas as pd\n",
    "import re"
   ]
  },
  {
   "cell_type": "code",
   "execution_count": null,
   "id": "a893ebba",
   "metadata": {},
   "outputs": [],
   "source": []
  },
  {
   "cell_type": "markdown",
   "id": "c98dcaff",
   "metadata": {},
   "source": [
    "### Initialize empty lists to store data"
   ]
  },
  {
   "cell_type": "code",
   "execution_count": 3,
   "id": "a99f4313",
   "metadata": {},
   "outputs": [],
   "source": [
    "titles = []\n",
    "years = []\n",
    "ratings = []\n",
    "genres=[]\n",
    "runtimes=[]\n",
    "votes_list=[]\n",
    "stars_list=[]"
   ]
  },
  {
   "cell_type": "markdown",
   "id": "5668a16f",
   "metadata": {},
   "source": [
    "### Define the base URL of the IMDb TV Shows page"
   ]
  },
  {
   "cell_type": "code",
   "execution_count": 4,
   "id": "1f53b364",
   "metadata": {},
   "outputs": [],
   "source": [
    "base_url = 'https://www.imdb.com/search/title?genres=drama&start='"
   ]
  },
  {
   "cell_type": "markdown",
   "id": "814ce9c5",
   "metadata": {},
   "source": [
    "### Loop through 20 pages of TV shows, each page containing 50 TV shows"
   ]
  },
  {
   "cell_type": "code",
   "execution_count": 5,
   "id": "f72a33cd",
   "metadata": {},
   "outputs": [],
   "source": [
    "for page in range(1, 21):\n",
    "    # Construct the URL of the current page\n",
    "    url = base_url + str(page)\n",
    "    \n",
    "    # Send a request to the URL and get the response\n",
    "    response = requests.get(url)\n",
    "\n",
    "    # Parse the HTML content of the response using BeautifulSoup\n",
    "    soup = BeautifulSoup(response.content, 'html.parser')\n",
    "    \n",
    "    # Find all div elements with class='lister-item-content' which contain information of each TV show\n",
    "    tv_show_list = soup.find_all('div', class_='lister-item-content')\n",
    "    \n",
    "    # Loop through all TV shows on the current page and extract necessary information\n",
    "    for tv_show in tv_show_list:\n",
    "        # Extract the title of the TV show\n",
    "        title = tv_show.h3.a.text\n",
    "        titles.append(title)\n",
    "\n",
    "        # Extract the year of release of the TV show\n",
    "        year = tv_show.find('span', class_='lister-item-year').text\n",
    "        years.append(year)\n",
    "        \n",
    "         # Extract the rating of the TV show\n",
    "        rating_element = tv_show.find('div', {'class': 'inline-block ratings-imdb-rating'})\n",
    "        if rating_element is not None:\n",
    "            rating = rating_element.strong.text\n",
    "            ratings.append(rating)\n",
    "        else:\n",
    "            ratings.append('N/A')\n",
    "           \n",
    "        \n",
    "        # Extract the genre of the TV show\n",
    "        genre =tv_show.find('span', class_= 'genre').text.strip()\n",
    "        genres.append(genre)\n",
    "        \n",
    "        \n",
    "        # Extract the runtime of the TV show\n",
    "        runtime_element = tv_show.find('span', {'class': 'runtime'})\n",
    "        if runtime_element is not None:\n",
    "            runtime = runtime_element.text.strip()\n",
    "        else:\n",
    "            runtime = 'N/A'\n",
    "        runtimes.append(runtime)\n",
    "        \n",
    "        # Extract number of votes\n",
    "        votes_element = tv_show.find('span', {'name': 'nv'})\n",
    "        if votes_element is not None:\n",
    "            votes = votes_element['data-value']\n",
    "        else:\n",
    "            votes = 'N/A'\n",
    "        votes_list.append(votes)\n",
    "        \n",
    "        \n",
    "         # Extract the stars of the TV show\n",
    "        stars_element = tv_show.find('p', class_='')\n",
    "        if stars_element is not None:\n",
    "            stars = stars_element.find_all('a')\n",
    "            star_list = [star.text for star in stars]\n",
    "        else:\n",
    "            star_list = 'N/A'\n",
    "        stars_list.append(star_list)\n",
    "    "
   ]
  },
  {
   "cell_type": "markdown",
   "id": "012f5f82",
   "metadata": {},
   "source": [
    "### Create a DataFrame"
   ]
  },
  {
   "cell_type": "code",
   "execution_count": 6,
   "id": "757d0956",
   "metadata": {},
   "outputs": [],
   "source": [
    "# Create a dataframe using pandas\n",
    "df = pd.DataFrame({\n",
    "    'Title': titles,\n",
    "    'Year': years,\n",
    "    'Rating': ratings,\n",
    "    'Genre': genres,\n",
    "    'Runtime': runtimes,\n",
    "    'Votes': votes_list,\n",
    "    'Stars': stars_list\n",
    "})"
   ]
  },
  {
   "cell_type": "code",
   "execution_count": 7,
   "id": "e27c82a7",
   "metadata": {},
   "outputs": [
    {
     "data": {
      "text/html": [
       "<div>\n",
       "<style scoped>\n",
       "    .dataframe tbody tr th:only-of-type {\n",
       "        vertical-align: middle;\n",
       "    }\n",
       "\n",
       "    .dataframe tbody tr th {\n",
       "        vertical-align: top;\n",
       "    }\n",
       "\n",
       "    .dataframe thead th {\n",
       "        text-align: right;\n",
       "    }\n",
       "</style>\n",
       "<table border=\"1\" class=\"dataframe\">\n",
       "  <thead>\n",
       "    <tr style=\"text-align: right;\">\n",
       "      <th></th>\n",
       "      <th>Title</th>\n",
       "      <th>Year</th>\n",
       "      <th>Rating</th>\n",
       "      <th>Genre</th>\n",
       "      <th>Runtime</th>\n",
       "      <th>Votes</th>\n",
       "      <th>Stars</th>\n",
       "    </tr>\n",
       "  </thead>\n",
       "  <tbody>\n",
       "    <tr>\n",
       "      <th>0</th>\n",
       "      <td>The Last of Us</td>\n",
       "      <td>(2023– )</td>\n",
       "      <td>8.9</td>\n",
       "      <td>Action, Adventure, Drama</td>\n",
       "      <td>50 min</td>\n",
       "      <td>346080</td>\n",
       "      <td>[Pedro Pascal, Bella Ramsey, Anna Torv, Lamar ...</td>\n",
       "    </tr>\n",
       "    <tr>\n",
       "      <th>1</th>\n",
       "      <td>Shadow and Bone</td>\n",
       "      <td>(2021– )</td>\n",
       "      <td>7.6</td>\n",
       "      <td>Action, Adventure, Drama</td>\n",
       "      <td>60 min</td>\n",
       "      <td>96411</td>\n",
       "      <td>[Jessie Mei Li, Ben Barnes, Archie Renaux, Fre...</td>\n",
       "    </tr>\n",
       "    <tr>\n",
       "      <th>2</th>\n",
       "      <td>Swarm</td>\n",
       "      <td>(2023– )</td>\n",
       "      <td>7.3</td>\n",
       "      <td>Comedy, Drama, Thriller</td>\n",
       "      <td>N/A</td>\n",
       "      <td>5041</td>\n",
       "      <td>[Dominique Fishback, Chloe Bailey, Nirine S. B...</td>\n",
       "    </tr>\n",
       "    <tr>\n",
       "      <th>3</th>\n",
       "      <td>Ted Lasso</td>\n",
       "      <td>(2020– )</td>\n",
       "      <td>8.8</td>\n",
       "      <td>Comedy, Drama, Sport</td>\n",
       "      <td>30 min</td>\n",
       "      <td>239726</td>\n",
       "      <td>[Jason Sudeikis, Brett Goldstein, Brendan Hunt...</td>\n",
       "    </tr>\n",
       "    <tr>\n",
       "      <th>4</th>\n",
       "      <td>The Night Agent</td>\n",
       "      <td>(2023– )</td>\n",
       "      <td>7.7</td>\n",
       "      <td>Action, Drama, Thriller</td>\n",
       "      <td>N/A</td>\n",
       "      <td>9394</td>\n",
       "      <td>[Gabriel Basso, Luciane Buchanan, Fola Evans-A...</td>\n",
       "    </tr>\n",
       "  </tbody>\n",
       "</table>\n",
       "</div>"
      ],
      "text/plain": [
       "             Title      Year Rating                     Genre Runtime   Votes  \\\n",
       "0   The Last of Us  (2023– )    8.9  Action, Adventure, Drama  50 min  346080   \n",
       "1  Shadow and Bone  (2021– )    7.6  Action, Adventure, Drama  60 min   96411   \n",
       "2            Swarm  (2023– )    7.3   Comedy, Drama, Thriller     N/A    5041   \n",
       "3        Ted Lasso  (2020– )    8.8      Comedy, Drama, Sport  30 min  239726   \n",
       "4  The Night Agent  (2023– )    7.7   Action, Drama, Thriller     N/A    9394   \n",
       "\n",
       "                                               Stars  \n",
       "0  [Pedro Pascal, Bella Ramsey, Anna Torv, Lamar ...  \n",
       "1  [Jessie Mei Li, Ben Barnes, Archie Renaux, Fre...  \n",
       "2  [Dominique Fishback, Chloe Bailey, Nirine S. B...  \n",
       "3  [Jason Sudeikis, Brett Goldstein, Brendan Hunt...  \n",
       "4  [Gabriel Basso, Luciane Buchanan, Fola Evans-A...  "
      ]
     },
     "execution_count": 7,
     "metadata": {},
     "output_type": "execute_result"
    }
   ],
   "source": [
    "df.head()"
   ]
  },
  {
   "cell_type": "code",
   "execution_count": 8,
   "id": "28e9b188",
   "metadata": {},
   "outputs": [],
   "source": [
    "# save the dataframe to a CSV file\n",
    "df.to_csv('tv_shows.csv', index=False)"
   ]
  },
  {
   "cell_type": "markdown",
   "id": "fd09734d",
   "metadata": {},
   "source": [
    "##### The provided code utilizes Python and the Beautiful Soup library to scrape data from IMDb's Top Rated TV Shows page. The code loops through 20 pages, extracting information about the TV shows listed on each page, including the show's title, year of release, rating, genre, runtime, number of votes, and stars. The extracted data is then stored in lists, which are used to create a pandas data frame. Finally, the data frame is exported to a CSV file for further analysis. This code serves as a helpful example for those looking to scrape data from web pages using Python and Beautiful Soup."
   ]
  },
  {
   "cell_type": "code",
   "execution_count": null,
   "id": "75fbaa6b",
   "metadata": {},
   "outputs": [],
   "source": []
  }
 ],
 "metadata": {
  "kernelspec": {
   "display_name": "Python 3 (ipykernel)",
   "language": "python",
   "name": "python3"
  },
  "language_info": {
   "codemirror_mode": {
    "name": "ipython",
    "version": 3
   },
   "file_extension": ".py",
   "mimetype": "text/x-python",
   "name": "python",
   "nbconvert_exporter": "python",
   "pygments_lexer": "ipython3",
   "version": "3.9.7"
  }
 },
 "nbformat": 4,
 "nbformat_minor": 5
}
